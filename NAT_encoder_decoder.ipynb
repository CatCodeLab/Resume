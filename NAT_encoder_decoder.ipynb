{
  "cells": [
    {
      "cell_type": "markdown",
      "metadata": {
        "id": "view-in-github",
        "colab_type": "text"
      },
      "source": [
        "<a href=\"https://colab.research.google.com/github/CatCodeLab/Resume/blob/master/NAT_encoder_decoder.ipynb\" target=\"_parent\"><img src=\"https://colab.research.google.com/assets/colab-badge.svg\" alt=\"Open In Colab\"/></a>"
      ]
    },
    {
      "cell_type": "markdown",
      "metadata": {
        "id": "ztdnV_lsH345"
      },
      "source": [
        "# An Encoder–Decoder Network for Neural Machine Translation\n"
      ]
    },
    {
      "cell_type": "code",
      "execution_count": 2,
      "metadata": {
        "id": "A7tQ1KM7IHyl"
      },
      "outputs": [],
      "source": [
        "from pathlib import Path\n",
        "import torch\n",
        "from torchvision.datasets.utils import download_and_extract_archive\n",
        "\n",
        "from torchtext.data import get_tokenizer\n",
        "from torchtext.vocab import build_vocab_from_iterator\n",
        "\n",
        "from torch.utils.data import Dataset, DataLoader\n",
        "\n",
        "import numpy as np"
      ]
    },
    {
      "cell_type": "code",
      "source": [
        "# !pip install -Uqq ipdb\n",
        "# import ipdb\n",
        "\n",
        "# %pdb on"
      ],
      "metadata": {
        "id": "B96zyUiIraVL"
      },
      "execution_count": 3,
      "outputs": []
    },
    {
      "cell_type": "code",
      "execution_count": 4,
      "metadata": {
        "id": "tx-CgTrMc8Sm"
      },
      "outputs": [],
      "source": [
        "# define constants\n",
        "MAX_LENGTH = 10\n",
        "max_words = 50\n",
        "\n",
        "BATCH_SIZE = 128"
      ]
    },
    {
      "cell_type": "code",
      "execution_count": 5,
      "metadata": {
        "colab": {
          "base_uri": "https://localhost:8080/"
        },
        "id": "ooPIV9kGcG44",
        "outputId": "3ed02131-8163-49ea-86fb-5bbcf3d37b2d"
      },
      "outputs": [
        {
          "output_type": "stream",
          "name": "stdout",
          "text": [
            "cuda\n"
          ]
        }
      ],
      "source": [
        "# check gpu\n",
        "device = torch.device(\"cuda\" if torch.cuda.is_available() else \"cpu\")\n",
        "\n",
        "print(device)"
      ]
    },
    {
      "cell_type": "code",
      "execution_count": 6,
      "metadata": {
        "colab": {
          "base_uri": "https://localhost:8080/"
        },
        "id": "ZlzssgC5IBeh",
        "outputId": "eafa8570-ce84-4a11-b07a-4f7654e820db"
      },
      "outputs": [
        {
          "output_type": "stream",
          "name": "stdout",
          "text": [
            "Downloading https://storage.googleapis.com/download.tensorflow.org/data/spa-eng.zip to ./spa-eng.zip\n"
          ]
        },
        {
          "output_type": "stream",
          "name": "stderr",
          "text": [
            "100%|██████████| 2638744/2638744 [00:00<00:00, 3092771.03it/s]\n"
          ]
        },
        {
          "output_type": "stream",
          "name": "stdout",
          "text": [
            "Extracting ./spa-eng.zip to ./\n"
          ]
        }
      ],
      "source": [
        "# download data\n",
        "url = \"https://storage.googleapis.com/download.tensorflow.org/data/spa-eng.zip\"\n",
        "\n",
        "filename = 'spa-eng'\n",
        "to_path = './'\n",
        "download_and_extract_archive(url, to_path)\n",
        "text = Path(\"./spa-eng/spa.txt\").read_text()"
      ]
    },
    {
      "cell_type": "code",
      "execution_count": 7,
      "metadata": {
        "id": "8BmMOXOEOzUA"
      },
      "outputs": [],
      "source": [
        "# prepare the data\n",
        "text = text.replace(\"¡\", \"\").replace(\"¿\", \"\")\n",
        "pairs = [line.split(\"\\t\") for line in text.splitlines()]\n",
        "np.random.seed(42)  # extra code – ensures reproducibility on CPU\n",
        "np.random.shuffle(pairs)\n",
        "sentences_en, sentences_es = zip(*pairs)  # separates the pairs into 2 lists"
      ]
    },
    {
      "cell_type": "code",
      "execution_count": 8,
      "metadata": {
        "colab": {
          "base_uri": "https://localhost:8080/"
        },
        "id": "AXLuzplCPXEd",
        "outputId": "62d4493b-981e-4878-8dac-8ace0592e31a"
      },
      "outputs": [
        {
          "output_type": "stream",
          "name": "stdout",
          "text": [
            "How boring! => Qué aburrimiento!\n",
            "I love sports. => Adoro el deporte.\n",
            "Would you like to swap jobs? => Te gustaría que intercambiemos los trabajos?\n"
          ]
        }
      ],
      "source": [
        "# example data\n",
        "for i in range(3):\n",
        "    print(sentences_en[i], \"=>\", sentences_es[i])"
      ]
    },
    {
      "cell_type": "code",
      "execution_count": 9,
      "metadata": {
        "colab": {
          "base_uri": "https://localhost:8080/"
        },
        "id": "dUBOJgs_A7Cf",
        "outputId": "3b44afe8-10f8-46db-ff12-03ec6027c21d"
      },
      "outputs": [
        {
          "output_type": "stream",
          "name": "stdout",
          "text": [
            "2024-01-11 04:23:44.514352: E external/local_xla/xla/stream_executor/cuda/cuda_dnn.cc:9261] Unable to register cuDNN factory: Attempting to register factory for plugin cuDNN when one has already been registered\n",
            "2024-01-11 04:23:44.514415: E external/local_xla/xla/stream_executor/cuda/cuda_fft.cc:607] Unable to register cuFFT factory: Attempting to register factory for plugin cuFFT when one has already been registered\n",
            "2024-01-11 04:23:44.515893: E external/local_xla/xla/stream_executor/cuda/cuda_blas.cc:1515] Unable to register cuBLAS factory: Attempting to register factory for plugin cuBLAS when one has already been registered\n",
            "2024-01-11 04:23:45.587113: W tensorflow/compiler/tf2tensorrt/utils/py_utils.cc:38] TF-TRT Warning: Could not find TensorRT\n",
            "\u001b[38;5;3m⚠ As of spaCy v3.0, shortcuts like 'en' are deprecated. Please use the\n",
            "full pipeline package name 'en_core_web_sm' instead.\u001b[0m\n",
            "Collecting en-core-web-sm==3.6.0\n",
            "  Downloading https://github.com/explosion/spacy-models/releases/download/en_core_web_sm-3.6.0/en_core_web_sm-3.6.0-py3-none-any.whl (12.8 MB)\n",
            "\u001b[2K     \u001b[90m━━━━━━━━━━━━━━━━━━━━━━━━━━━━━━━━━━━━━━━━\u001b[0m \u001b[32m12.8/12.8 MB\u001b[0m \u001b[31m58.0 MB/s\u001b[0m eta \u001b[36m0:00:00\u001b[0m\n",
            "\u001b[?25hRequirement already satisfied: spacy<3.7.0,>=3.6.0 in /usr/local/lib/python3.10/dist-packages (from en-core-web-sm==3.6.0) (3.6.1)\n",
            "Requirement already satisfied: spacy-legacy<3.1.0,>=3.0.11 in /usr/local/lib/python3.10/dist-packages (from spacy<3.7.0,>=3.6.0->en-core-web-sm==3.6.0) (3.0.12)\n",
            "Requirement already satisfied: spacy-loggers<2.0.0,>=1.0.0 in /usr/local/lib/python3.10/dist-packages (from spacy<3.7.0,>=3.6.0->en-core-web-sm==3.6.0) (1.0.5)\n",
            "Requirement already satisfied: murmurhash<1.1.0,>=0.28.0 in /usr/local/lib/python3.10/dist-packages (from spacy<3.7.0,>=3.6.0->en-core-web-sm==3.6.0) (1.0.10)\n",
            "Requirement already satisfied: cymem<2.1.0,>=2.0.2 in /usr/local/lib/python3.10/dist-packages (from spacy<3.7.0,>=3.6.0->en-core-web-sm==3.6.0) (2.0.8)\n",
            "Requirement already satisfied: preshed<3.1.0,>=3.0.2 in /usr/local/lib/python3.10/dist-packages (from spacy<3.7.0,>=3.6.0->en-core-web-sm==3.6.0) (3.0.9)\n",
            "Requirement already satisfied: thinc<8.2.0,>=8.1.8 in /usr/local/lib/python3.10/dist-packages (from spacy<3.7.0,>=3.6.0->en-core-web-sm==3.6.0) (8.1.12)\n",
            "Requirement already satisfied: wasabi<1.2.0,>=0.9.1 in /usr/local/lib/python3.10/dist-packages (from spacy<3.7.0,>=3.6.0->en-core-web-sm==3.6.0) (1.1.2)\n",
            "Requirement already satisfied: srsly<3.0.0,>=2.4.3 in /usr/local/lib/python3.10/dist-packages (from spacy<3.7.0,>=3.6.0->en-core-web-sm==3.6.0) (2.4.8)\n",
            "Requirement already satisfied: catalogue<2.1.0,>=2.0.6 in /usr/local/lib/python3.10/dist-packages (from spacy<3.7.0,>=3.6.0->en-core-web-sm==3.6.0) (2.0.10)\n",
            "Requirement already satisfied: typer<0.10.0,>=0.3.0 in /usr/local/lib/python3.10/dist-packages (from spacy<3.7.0,>=3.6.0->en-core-web-sm==3.6.0) (0.9.0)\n",
            "Requirement already satisfied: pathy>=0.10.0 in /usr/local/lib/python3.10/dist-packages (from spacy<3.7.0,>=3.6.0->en-core-web-sm==3.6.0) (0.10.3)\n",
            "Requirement already satisfied: smart-open<7.0.0,>=5.2.1 in /usr/local/lib/python3.10/dist-packages (from spacy<3.7.0,>=3.6.0->en-core-web-sm==3.6.0) (6.4.0)\n",
            "Requirement already satisfied: tqdm<5.0.0,>=4.38.0 in /usr/local/lib/python3.10/dist-packages (from spacy<3.7.0,>=3.6.0->en-core-web-sm==3.6.0) (4.66.1)\n",
            "Requirement already satisfied: numpy>=1.15.0 in /usr/local/lib/python3.10/dist-packages (from spacy<3.7.0,>=3.6.0->en-core-web-sm==3.6.0) (1.23.5)\n",
            "Requirement already satisfied: requests<3.0.0,>=2.13.0 in /usr/local/lib/python3.10/dist-packages (from spacy<3.7.0,>=3.6.0->en-core-web-sm==3.6.0) (2.31.0)\n",
            "Requirement already satisfied: pydantic!=1.8,!=1.8.1,<3.0.0,>=1.7.4 in /usr/local/lib/python3.10/dist-packages (from spacy<3.7.0,>=3.6.0->en-core-web-sm==3.6.0) (1.10.13)\n",
            "Requirement already satisfied: jinja2 in /usr/local/lib/python3.10/dist-packages (from spacy<3.7.0,>=3.6.0->en-core-web-sm==3.6.0) (3.1.2)\n",
            "Requirement already satisfied: setuptools in /usr/local/lib/python3.10/dist-packages (from spacy<3.7.0,>=3.6.0->en-core-web-sm==3.6.0) (67.7.2)\n",
            "Requirement already satisfied: packaging>=20.0 in /usr/local/lib/python3.10/dist-packages (from spacy<3.7.0,>=3.6.0->en-core-web-sm==3.6.0) (23.2)\n",
            "Requirement already satisfied: langcodes<4.0.0,>=3.2.0 in /usr/local/lib/python3.10/dist-packages (from spacy<3.7.0,>=3.6.0->en-core-web-sm==3.6.0) (3.3.0)\n",
            "Requirement already satisfied: typing-extensions>=4.2.0 in /usr/local/lib/python3.10/dist-packages (from pydantic!=1.8,!=1.8.1,<3.0.0,>=1.7.4->spacy<3.7.0,>=3.6.0->en-core-web-sm==3.6.0) (4.5.0)\n",
            "Requirement already satisfied: charset-normalizer<4,>=2 in /usr/local/lib/python3.10/dist-packages (from requests<3.0.0,>=2.13.0->spacy<3.7.0,>=3.6.0->en-core-web-sm==3.6.0) (3.3.2)\n",
            "Requirement already satisfied: idna<4,>=2.5 in /usr/local/lib/python3.10/dist-packages (from requests<3.0.0,>=2.13.0->spacy<3.7.0,>=3.6.0->en-core-web-sm==3.6.0) (3.6)\n",
            "Requirement already satisfied: urllib3<3,>=1.21.1 in /usr/local/lib/python3.10/dist-packages (from requests<3.0.0,>=2.13.0->spacy<3.7.0,>=3.6.0->en-core-web-sm==3.6.0) (2.0.7)\n",
            "Requirement already satisfied: certifi>=2017.4.17 in /usr/local/lib/python3.10/dist-packages (from requests<3.0.0,>=2.13.0->spacy<3.7.0,>=3.6.0->en-core-web-sm==3.6.0) (2023.11.17)\n",
            "Requirement already satisfied: blis<0.8.0,>=0.7.8 in /usr/local/lib/python3.10/dist-packages (from thinc<8.2.0,>=8.1.8->spacy<3.7.0,>=3.6.0->en-core-web-sm==3.6.0) (0.7.11)\n",
            "Requirement already satisfied: confection<1.0.0,>=0.0.1 in /usr/local/lib/python3.10/dist-packages (from thinc<8.2.0,>=8.1.8->spacy<3.7.0,>=3.6.0->en-core-web-sm==3.6.0) (0.1.4)\n",
            "Requirement already satisfied: click<9.0.0,>=7.1.1 in /usr/local/lib/python3.10/dist-packages (from typer<0.10.0,>=0.3.0->spacy<3.7.0,>=3.6.0->en-core-web-sm==3.6.0) (8.1.7)\n",
            "Requirement already satisfied: MarkupSafe>=2.0 in /usr/local/lib/python3.10/dist-packages (from jinja2->spacy<3.7.0,>=3.6.0->en-core-web-sm==3.6.0) (2.1.3)\n",
            "\u001b[38;5;2m✔ Download and installation successful\u001b[0m\n",
            "You can now load the package via spacy.load('en_core_web_sm')\n",
            "2024-01-11 04:24:01.747790: E external/local_xla/xla/stream_executor/cuda/cuda_dnn.cc:9261] Unable to register cuDNN factory: Attempting to register factory for plugin cuDNN when one has already been registered\n",
            "2024-01-11 04:24:01.747844: E external/local_xla/xla/stream_executor/cuda/cuda_fft.cc:607] Unable to register cuFFT factory: Attempting to register factory for plugin cuFFT when one has already been registered\n",
            "2024-01-11 04:24:01.749192: E external/local_xla/xla/stream_executor/cuda/cuda_blas.cc:1515] Unable to register cuBLAS factory: Attempting to register factory for plugin cuBLAS when one has already been registered\n",
            "2024-01-11 04:24:02.833437: W tensorflow/compiler/tf2tensorrt/utils/py_utils.cc:38] TF-TRT Warning: Could not find TensorRT\n",
            "\u001b[38;5;3m⚠ As of spaCy v3.0, shortcuts like 'es' are deprecated. Please use the\n",
            "full pipeline package name 'es_core_news_sm' instead.\u001b[0m\n",
            "Collecting es-core-news-sm==3.6.0\n",
            "  Downloading https://github.com/explosion/spacy-models/releases/download/es_core_news_sm-3.6.0/es_core_news_sm-3.6.0-py3-none-any.whl (12.9 MB)\n",
            "\u001b[2K     \u001b[90m━━━━━━━━━━━━━━━━━━━━━━━━━━━━━━━━━━━━━━━━\u001b[0m \u001b[32m12.9/12.9 MB\u001b[0m \u001b[31m49.0 MB/s\u001b[0m eta \u001b[36m0:00:00\u001b[0m\n",
            "\u001b[?25hRequirement already satisfied: spacy<3.7.0,>=3.6.0 in /usr/local/lib/python3.10/dist-packages (from es-core-news-sm==3.6.0) (3.6.1)\n",
            "Requirement already satisfied: spacy-legacy<3.1.0,>=3.0.11 in /usr/local/lib/python3.10/dist-packages (from spacy<3.7.0,>=3.6.0->es-core-news-sm==3.6.0) (3.0.12)\n",
            "Requirement already satisfied: spacy-loggers<2.0.0,>=1.0.0 in /usr/local/lib/python3.10/dist-packages (from spacy<3.7.0,>=3.6.0->es-core-news-sm==3.6.0) (1.0.5)\n",
            "Requirement already satisfied: murmurhash<1.1.0,>=0.28.0 in /usr/local/lib/python3.10/dist-packages (from spacy<3.7.0,>=3.6.0->es-core-news-sm==3.6.0) (1.0.10)\n",
            "Requirement already satisfied: cymem<2.1.0,>=2.0.2 in /usr/local/lib/python3.10/dist-packages (from spacy<3.7.0,>=3.6.0->es-core-news-sm==3.6.0) (2.0.8)\n",
            "Requirement already satisfied: preshed<3.1.0,>=3.0.2 in /usr/local/lib/python3.10/dist-packages (from spacy<3.7.0,>=3.6.0->es-core-news-sm==3.6.0) (3.0.9)\n",
            "Requirement already satisfied: thinc<8.2.0,>=8.1.8 in /usr/local/lib/python3.10/dist-packages (from spacy<3.7.0,>=3.6.0->es-core-news-sm==3.6.0) (8.1.12)\n",
            "Requirement already satisfied: wasabi<1.2.0,>=0.9.1 in /usr/local/lib/python3.10/dist-packages (from spacy<3.7.0,>=3.6.0->es-core-news-sm==3.6.0) (1.1.2)\n",
            "Requirement already satisfied: srsly<3.0.0,>=2.4.3 in /usr/local/lib/python3.10/dist-packages (from spacy<3.7.0,>=3.6.0->es-core-news-sm==3.6.0) (2.4.8)\n",
            "Requirement already satisfied: catalogue<2.1.0,>=2.0.6 in /usr/local/lib/python3.10/dist-packages (from spacy<3.7.0,>=3.6.0->es-core-news-sm==3.6.0) (2.0.10)\n",
            "Requirement already satisfied: typer<0.10.0,>=0.3.0 in /usr/local/lib/python3.10/dist-packages (from spacy<3.7.0,>=3.6.0->es-core-news-sm==3.6.0) (0.9.0)\n",
            "Requirement already satisfied: pathy>=0.10.0 in /usr/local/lib/python3.10/dist-packages (from spacy<3.7.0,>=3.6.0->es-core-news-sm==3.6.0) (0.10.3)\n",
            "Requirement already satisfied: smart-open<7.0.0,>=5.2.1 in /usr/local/lib/python3.10/dist-packages (from spacy<3.7.0,>=3.6.0->es-core-news-sm==3.6.0) (6.4.0)\n",
            "Requirement already satisfied: tqdm<5.0.0,>=4.38.0 in /usr/local/lib/python3.10/dist-packages (from spacy<3.7.0,>=3.6.0->es-core-news-sm==3.6.0) (4.66.1)\n",
            "Requirement already satisfied: numpy>=1.15.0 in /usr/local/lib/python3.10/dist-packages (from spacy<3.7.0,>=3.6.0->es-core-news-sm==3.6.0) (1.23.5)\n",
            "Requirement already satisfied: requests<3.0.0,>=2.13.0 in /usr/local/lib/python3.10/dist-packages (from spacy<3.7.0,>=3.6.0->es-core-news-sm==3.6.0) (2.31.0)\n",
            "Requirement already satisfied: pydantic!=1.8,!=1.8.1,<3.0.0,>=1.7.4 in /usr/local/lib/python3.10/dist-packages (from spacy<3.7.0,>=3.6.0->es-core-news-sm==3.6.0) (1.10.13)\n",
            "Requirement already satisfied: jinja2 in /usr/local/lib/python3.10/dist-packages (from spacy<3.7.0,>=3.6.0->es-core-news-sm==3.6.0) (3.1.2)\n",
            "Requirement already satisfied: setuptools in /usr/local/lib/python3.10/dist-packages (from spacy<3.7.0,>=3.6.0->es-core-news-sm==3.6.0) (67.7.2)\n",
            "Requirement already satisfied: packaging>=20.0 in /usr/local/lib/python3.10/dist-packages (from spacy<3.7.0,>=3.6.0->es-core-news-sm==3.6.0) (23.2)\n",
            "Requirement already satisfied: langcodes<4.0.0,>=3.2.0 in /usr/local/lib/python3.10/dist-packages (from spacy<3.7.0,>=3.6.0->es-core-news-sm==3.6.0) (3.3.0)\n",
            "Requirement already satisfied: typing-extensions>=4.2.0 in /usr/local/lib/python3.10/dist-packages (from pydantic!=1.8,!=1.8.1,<3.0.0,>=1.7.4->spacy<3.7.0,>=3.6.0->es-core-news-sm==3.6.0) (4.5.0)\n",
            "Requirement already satisfied: charset-normalizer<4,>=2 in /usr/local/lib/python3.10/dist-packages (from requests<3.0.0,>=2.13.0->spacy<3.7.0,>=3.6.0->es-core-news-sm==3.6.0) (3.3.2)\n",
            "Requirement already satisfied: idna<4,>=2.5 in /usr/local/lib/python3.10/dist-packages (from requests<3.0.0,>=2.13.0->spacy<3.7.0,>=3.6.0->es-core-news-sm==3.6.0) (3.6)\n",
            "Requirement already satisfied: urllib3<3,>=1.21.1 in /usr/local/lib/python3.10/dist-packages (from requests<3.0.0,>=2.13.0->spacy<3.7.0,>=3.6.0->es-core-news-sm==3.6.0) (2.0.7)\n",
            "Requirement already satisfied: certifi>=2017.4.17 in /usr/local/lib/python3.10/dist-packages (from requests<3.0.0,>=2.13.0->spacy<3.7.0,>=3.6.0->es-core-news-sm==3.6.0) (2023.11.17)\n",
            "Requirement already satisfied: blis<0.8.0,>=0.7.8 in /usr/local/lib/python3.10/dist-packages (from thinc<8.2.0,>=8.1.8->spacy<3.7.0,>=3.6.0->es-core-news-sm==3.6.0) (0.7.11)\n",
            "Requirement already satisfied: confection<1.0.0,>=0.0.1 in /usr/local/lib/python3.10/dist-packages (from thinc<8.2.0,>=8.1.8->spacy<3.7.0,>=3.6.0->es-core-news-sm==3.6.0) (0.1.4)\n",
            "Requirement already satisfied: click<9.0.0,>=7.1.1 in /usr/local/lib/python3.10/dist-packages (from typer<0.10.0,>=0.3.0->spacy<3.7.0,>=3.6.0->es-core-news-sm==3.6.0) (8.1.7)\n",
            "Requirement already satisfied: MarkupSafe>=2.0 in /usr/local/lib/python3.10/dist-packages (from jinja2->spacy<3.7.0,>=3.6.0->es-core-news-sm==3.6.0) (2.1.3)\n",
            "Installing collected packages: es-core-news-sm\n",
            "Successfully installed es-core-news-sm-3.6.0\n",
            "\u001b[38;5;2m✔ Download and installation successful\u001b[0m\n",
            "You can now load the package via spacy.load('es_core_news_sm')\n"
          ]
        }
      ],
      "source": [
        "# !pip install --upgrade spacy\n",
        "!python -m spacy download en\n",
        "!python -m spacy download es\n"
      ]
    },
    {
      "cell_type": "code",
      "execution_count": 10,
      "metadata": {
        "id": "DsK3lGi_hrUu"
      },
      "outputs": [],
      "source": [
        "# option 1: load tokenizer\n",
        "# import spacy\n",
        "# es_tokenizer = spacy.load(\"es_core_news_sm\")\n",
        "# en_tokenizer = spacy.load(\"en_core_web_sm\")\n",
        "\n",
        "# option 2\n",
        "es_tokenizer = get_tokenizer('spacy', language='es_core_news_sm')\n",
        "en_tokenizer = get_tokenizer('spacy', language='en_core_web_sm')"
      ]
    },
    {
      "cell_type": "code",
      "execution_count": 11,
      "metadata": {
        "id": "3Ran_QrHcHKU"
      },
      "outputs": [],
      "source": [
        "def build_vocabulary(tokenizer, sentences):\n",
        "        for s in sentences:\n",
        "            yield tokenizer(s)"
      ]
    },
    {
      "cell_type": "code",
      "execution_count": 12,
      "metadata": {
        "id": "NQnjbw2bIhJc"
      },
      "outputs": [],
      "source": [
        "en_vocab = build_vocab_from_iterator(build_vocabulary(en_tokenizer, sentences_en), min_freq=1, specials=['<UNK>', '<PAD>', '<SOS>', '<EOS>'])\n",
        "en_vocab.set_default_index(en_vocab[\"<UNK>\"])\n",
        "\n",
        "es_vocab = build_vocab_from_iterator(build_vocabulary(es_tokenizer, sentences_es), min_freq=1, specials=['<UNK>', '<PAD>', '<SOS>', '<EOS>'])\n",
        "es_vocab.set_default_index(es_vocab[\"<UNK>\"])"
      ]
    },
    {
      "cell_type": "code",
      "execution_count": 13,
      "metadata": {
        "colab": {
          "base_uri": "https://localhost:8080/"
        },
        "id": "H-YA4CsVfUzp",
        "outputId": "e6ad1a60-ee87-445d-d27e-11b47ae5dadf"
      },
      "outputs": [
        {
          "output_type": "stream",
          "name": "stdout",
          "text": [
            "{index of(['here', 'is', 'an', 'example'])} -> [69, 12, 79, 1869]\n",
            "{index of(['Qué', 'aburrimiento'])} -> [49, 5500]\n"
          ]
        }
      ],
      "source": [
        "# Test English vocab\n",
        "print(f\"{{index of(['here', 'is', 'an', 'example'])}} -> {en_vocab(['here', 'is', 'an', 'example'])}\")\n",
        "\n",
        "# Test Spanish vocab\n",
        "print(f\"{{index of(['Qué', 'aburrimiento'])}} -> {es_vocab(['Qué', 'aburrimiento'])}\")"
      ]
    },
    {
      "cell_type": "code",
      "execution_count": 14,
      "metadata": {
        "id": "k43rG8PHKbF5"
      },
      "outputs": [],
      "source": [
        "def prepare_data(inp_sents, target_sents, inp_vocab, target_vocab, inp_tokenizer, target_tokenizer):\n",
        "  data = []\n",
        "  for raw_inp, raw_target in zip(inp_sents, target_sents):\n",
        "    inp_tensor_ = torch.tensor([inp_vocab[token] for token in inp_tokenizer(raw_inp)], dtype=torch.long)\n",
        "    target_tensor_ = torch.tensor([target_vocab[token] for token in target_tokenizer(raw_target)], dtype=torch.long)\n",
        "    data.append((inp_tensor_, target_tensor_))\n",
        "\n",
        "  return data"
      ]
    },
    {
      "cell_type": "code",
      "execution_count": 15,
      "metadata": {
        "colab": {
          "base_uri": "https://localhost:8080/"
        },
        "id": "hEB0Csx3NG4H",
        "outputId": "1201b737-2be4-47da-e62c-0536beb7005c"
      },
      "outputs": [
        {
          "output_type": "stream",
          "name": "stdout",
          "text": [
            "[['How boring!', 'Qué aburrimiento!'], ['I love sports.', 'Adoro el deporte.']]\n"
          ]
        }
      ],
      "source": [
        "print(pairs[:2])\n",
        "\n",
        "train_data = prepare_data(sentences_en[:100_000], sentences_es[:100_000], en_vocab, es_vocab, en_tokenizer, es_tokenizer)\n",
        "val_data = prepare_data(sentences_en[100_000:], sentences_es[100_000:], en_vocab, es_vocab, en_tokenizer, es_tokenizer)"
      ]
    },
    {
      "cell_type": "code",
      "execution_count": 16,
      "metadata": {
        "id": "5IifKmW1MFS9"
      },
      "outputs": [],
      "source": [
        "PAD_IDX = en_vocab['<PAD>']\n",
        "SOS_IDX = en_vocab['<SOS>']\n",
        "EOS_IDX = en_vocab['<EOS>']\n",
        "\n",
        "from torch.nn.utils.rnn import pad_sequence\n",
        "from torch.utils.data import DataLoader\n",
        "\n",
        "def generate_batch(data_batch):\n",
        "  en_batch, es_batch = [], []\n",
        "\n",
        "  for (en_item, es_item) in data_batch:\n",
        "    # en_batch.append(torch.cat([torch.tensor([SOS_IDX]), en_item, torch.tensor([EOS_IDX])], dim=0))\n",
        "    # es_batch.append(torch.cat([torch.tensor([SOS_IDX]), es_item, torch.tensor([EOS_IDX])], dim=0))\n",
        "    en_batch.append(torch.cat([en_item, torch.tensor([EOS_IDX])], dim=0))\n",
        "    es_batch.append(torch.cat([es_item, torch.tensor([EOS_IDX])], dim=0))\n",
        "\n",
        "  en_batch = pad_sequence(en_batch, padding_value=PAD_IDX, batch_first=True)\n",
        "  es_batch = pad_sequence(es_batch, padding_value=PAD_IDX, batch_first=True)\n",
        "\n",
        "  return en_batch.to(device), es_batch.to(device)\n",
        "\n",
        "train_loader = DataLoader(train_data, batch_size=BATCH_SIZE,\n",
        "                        shuffle=True, collate_fn=generate_batch)\n",
        "valid_loader = DataLoader(val_data, batch_size=BATCH_SIZE,\n",
        "                        shuffle=True, collate_fn=generate_batch)"
      ]
    },
    {
      "cell_type": "code",
      "execution_count": 17,
      "metadata": {
        "id": "IUG7zUHWddYd"
      },
      "outputs": [],
      "source": [
        "# # build dataset\n",
        "# class SentencesDataset(Dataset):\n",
        "\n",
        "#   def __init__(self, source, target):\n",
        "#     self.source = source\n",
        "#     self.target = target\n",
        "\n",
        "#   def __len__(self):\n",
        "#     return len(self.target)\n",
        "\n",
        "#   def __getitem__(self, idx):\n",
        "#         source = self.source[idx]\n",
        "#         target = self.target[idx]\n",
        "#         sample = {\"source\": source, \"target\": target}\n",
        "#         return sample\n",
        "\n",
        "# # generate dataset\n",
        "# train_dataset = SentencesDataset(sentences_en[:100_000], sentences_es[:100_000])\n",
        "# test_dataset = SentencesDataset(sentences_en[100_000:], sentences_es[100_000:])"
      ]
    },
    {
      "cell_type": "code",
      "execution_count": 18,
      "metadata": {
        "id": "KfJMHndEzaPq"
      },
      "outputs": [],
      "source": [
        "# def vectorize_batch(batch):\n",
        "#     en_sen, es_sen = list(zip(*batch))\n",
        "#     X = [en_vocab(en_tokenizer(text)) for text in en_sen]\n",
        "#     X = [tokens+([0]* (max_words-len(tokens))) if len(tokens)<max_words else tokens[:max_words] for tokens in X] ## Bringing all samples to max_words length.\n",
        "\n",
        "#     Y = [es_vocab(es_tokenizer(text)) for text in es_sen]\n",
        "#     Y = [tokens+([0]* (max_words-len(tokens))) if len(tokens)<max_words else tokens[:max_words] for tokens in X] ## Bringing all samples to max_words length.\n",
        "\n",
        "#     return torch.tensor(X, dtype=torch.int32), torch.tensor(Y) - 1 ## We have deducted 1 from target names to get them in range [0,1,2,3] from [1,2,3,4]\n"
      ]
    },
    {
      "cell_type": "code",
      "execution_count": 19,
      "metadata": {
        "id": "q6TMpHuaxgQu"
      },
      "outputs": [],
      "source": [
        "# train_loader = DataLoader(train_dataset, batch_size=1024, collate_fn=vectorize_batch, shuffle=True)\n",
        "# test_loader  = DataLoader(test_dataset , batch_size=1024, collate_fn=vectorize_batch)"
      ]
    },
    {
      "cell_type": "code",
      "execution_count": 20,
      "metadata": {
        "id": "imp1fqlGf6UR"
      },
      "outputs": [],
      "source": [
        "from torch import nn\n",
        "from torch.nn import functional as F\n",
        "\n",
        "# embed_len = 128\n",
        "# hidden_dim = 512\n",
        "\n",
        "class EncoderRNN(nn.Module):\n",
        "    def __init__(self, input_size, hidden_size, dropout_p=0.1):\n",
        "        super(EncoderRNN, self).__init__()\n",
        "        self.hidden_size = hidden_size\n",
        "\n",
        "        self.embedding = nn.Embedding(input_size, hidden_size)\n",
        "        self.gru = nn.GRU(hidden_size, hidden_size, batch_first=True)\n",
        "        self.dropout = nn.Dropout(dropout_p)\n",
        "\n",
        "        # print(f'In encoder: embedding size [{input_size}, {hidden_size}]')\n",
        "\n",
        "    def forward(self, input):\n",
        "        embedded = self.dropout(self.embedding(input))\n",
        "        output, hidden = self.gru(embedded)\n",
        "        # print(f'In encoder: output size [{output.size()}, hidden_size = {hidden.size()}]')\n",
        "        return output, hidden\n"
      ]
    },
    {
      "cell_type": "code",
      "execution_count": 39,
      "metadata": {
        "id": "_MDCANPr59TS"
      },
      "outputs": [],
      "source": [
        "class DecoderRNN(nn.Module):\n",
        "    def __init__(self, hidden_size, output_size):\n",
        "        super(DecoderRNN, self).__init__()\n",
        "        self.embedding = nn.Embedding(output_size, hidden_size)\n",
        "        self.gru = nn.GRU(hidden_size, hidden_size, batch_first=True)\n",
        "        self.out = nn.Linear(hidden_size, output_size)\n",
        "        # print(f'In decoder: embedding size [{output_size}, {hidden_size}]')\n",
        "\n",
        "    def forward(self, encoder_outputs, encoder_hidden, target_tensor=None):\n",
        "        batch_size = encoder_outputs.size(0)\n",
        "\n",
        "        # print(f'decoder forward: batch_size {batch_size}, encoder_outputs size = {encoder_outputs.size()}')\n",
        "        # decoder_input = torch.empty(batch_size, 1, dtype=torch.long, device=device).fill_(SOS_token)\n",
        "        decoder_input = torch.empty(batch_size, 1, dtype=torch.long, device=device).fill_(2)\n",
        "        decoder_hidden = encoder_hidden\n",
        "        decoder_outputs = []\n",
        "\n",
        "        # print(f'decoder forward: decoder_input {decoder_input.size()}')\n",
        "\n",
        "        # for i in range(MAX_LENGTH):\n",
        "        max_words_length = MAX_LENGTH\n",
        "        if target_tensor is not None:\n",
        "          max_words_length = target_tensor.size(1)\n",
        "\n",
        "        # for i in range(target_tensor.size(1)):\n",
        "        for i in range(max_words_length):\n",
        "            decoder_output, decoder_hidden  = self.forward_step(decoder_input, decoder_hidden)\n",
        "            decoder_outputs.append(decoder_output)\n",
        "            # print(decoder_output.size())\n",
        "\n",
        "            if target_tensor is not None:\n",
        "                # Teacher forcing: Feed the target as the next input\n",
        "                # print(f'we have target_tensor size = {target_tensor.size()}')\n",
        "                # [128, 26])\n",
        "                decoder_input = target_tensor[:, i].unsqueeze(1) # Teacher forcing\n",
        "                # print(f'we have decoder_input size = {decoder_input.size()}')\n",
        "                # torch.Size([128, 1])\n",
        "            else:\n",
        "                # Without teacher forcing: use its own predictions as the next input\n",
        "                # print(f'decoder_output size = {decoder_output.size()}')\n",
        "                # torch.Size([1, 1, 29103]\n",
        "                # _, topi = decoder_output.topk(1, dim=2)\n",
        "                # If dim is not given, the last dimension of the input is chosen for topk.\n",
        "                _, topi = decoder_output.topk(1)\n",
        "                # print(f'topi.size={topi.size()}')\n",
        "                decoder_input = topi.squeeze(-1).detach()  # detach from history as input\n",
        "                # print(f'In decoder, decoder_input.size={decoder_input.size()}')\n",
        "\n",
        "        # ipdb.set_trace()\n",
        "        # print(f'decoder_outputs.size={len(decoder_outputs)}')\n",
        "        decoder_outputs = torch.cat(decoder_outputs, dim=1)\n",
        "        # print(f'Before log_softmax: decoder_outputs.size={decoder_outputs.size()}')\n",
        "        decoder_outputs = F.log_softmax(decoder_outputs, dim=-1)\n",
        "        # print(f'After log_softmax: decoder_outputs.size={decoder_outputs.size()}')\n",
        "        return decoder_outputs, decoder_hidden, None # We return `None` for consistency in the training loop\n",
        "\n",
        "    def forward_step(self, input, hidden):\n",
        "        # print(f'forward_step: input_size = {input.size()}')\n",
        "        output = self.embedding(input)\n",
        "        # print(f'forward_step: output_size = {output.size()}')\n",
        "        output = F.relu(output)\n",
        "        output, hidden = self.gru(output, hidden)\n",
        "        output = self.out(output)\n",
        "        return output, hidden"
      ]
    },
    {
      "cell_type": "code",
      "execution_count": 22,
      "metadata": {
        "id": "GmnfYG-nPfqI"
      },
      "outputs": [],
      "source": [
        "def train_epoch(dataloader, encoder, decoder, encoder_optimizer,\n",
        "          decoder_optimizer, criterion):\n",
        "\n",
        "    total_loss = 0\n",
        "    for data in dataloader:\n",
        "        input_tensor, target_tensor = data\n",
        "\n",
        "        # print(f'input_tensor size = {input_tensor.size()}, target_tensor size = {target_tensor.size()}')\n",
        "\n",
        "        encoder_optimizer.zero_grad()\n",
        "        decoder_optimizer.zero_grad()\n",
        "\n",
        "        encoder_outputs, encoder_hidden = encoder(input_tensor)\n",
        "        decoder_outputs, _, _ = decoder(encoder_outputs, encoder_hidden, target_tensor)\n",
        "\n",
        "        # print(f'encoder_output[{encoder_outputs.size()}], decoder_output[{decoder_outputs.size()}], encoder_output[{target_tensor.size()}] ')\n",
        "        loss = criterion(\n",
        "            decoder_outputs.view(-1, decoder_outputs.size(-1)),\n",
        "            target_tensor.view(-1)\n",
        "        )\n",
        "        loss.backward()\n",
        "\n",
        "        encoder_optimizer.step()\n",
        "        decoder_optimizer.step()\n",
        "\n",
        "        total_loss += loss.item()\n",
        "\n",
        "    return total_loss / len(dataloader)"
      ]
    },
    {
      "cell_type": "code",
      "execution_count": 23,
      "metadata": {
        "id": "WK-j2fOsSzRi"
      },
      "outputs": [],
      "source": [
        "import time\n",
        "import math\n",
        "\n",
        "def asMinutes(s):\n",
        "    m = math.floor(s / 60)\n",
        "    s -= m * 60\n",
        "    return '%dm %ds' % (m, s)\n",
        "\n",
        "def timeSince(since, percent):\n",
        "    now = time.time()\n",
        "    s = now - since\n",
        "    es = s / (percent)\n",
        "    rs = es - s\n",
        "    return '%s (- %s)' % (asMinutes(s), asMinutes(rs))"
      ]
    },
    {
      "cell_type": "code",
      "execution_count": 77,
      "metadata": {
        "id": "UBBn-SI-TLRg"
      },
      "outputs": [],
      "source": [
        "import matplotlib.pyplot as plt\n",
        "plt.switch_backend('agg')\n",
        "import matplotlib.ticker as ticker\n",
        "import numpy as np\n",
        "%matplotlib inline\n",
        "\n",
        "def showPlot(points):\n",
        "    plt.figure()\n",
        "    fig, ax = plt.subplots()\n",
        "    # this locator puts ticks at regular intervals\n",
        "    loc = ticker.MultipleLocator(base=0.2)\n",
        "    ax.yaxis.set_major_locator(loc)\n",
        "    plt.plot(points)"
      ]
    },
    {
      "cell_type": "code",
      "execution_count": 79,
      "metadata": {
        "id": "cDK-9Ly-8vsz"
      },
      "outputs": [],
      "source": [
        "from torch import optim\n",
        "\n",
        "def train(train_dataloader, encoder, decoder, n_epochs, learning_rate=0.001,\n",
        "               print_every=100, plot_every=100):\n",
        "    start = time.time()\n",
        "    plot_losses = []\n",
        "    print_loss_total = 0  # Reset every print_every\n",
        "    plot_loss_total = 0  # Reset every plot_every\n",
        "\n",
        "    encoder_optimizer = optim.Adam(encoder.parameters(), lr=learning_rate)\n",
        "    decoder_optimizer = optim.Adam(decoder.parameters(), lr=learning_rate)\n",
        "    criterion = nn.NLLLoss()\n",
        "\n",
        "    for epoch in range(1, n_epochs + 1):\n",
        "        loss = train_epoch(train_dataloader, encoder, decoder, encoder_optimizer, decoder_optimizer, criterion)\n",
        "        print_loss_total += loss\n",
        "        plot_loss_total += loss\n",
        "\n",
        "        if epoch % print_every == 0:\n",
        "            print_loss_avg = print_loss_total / print_every\n",
        "            print_loss_total = 0\n",
        "            print('%s (%d %d%%) %.4f' % (timeSince(start, epoch / n_epochs),\n",
        "                                        epoch, epoch / n_epochs * 100, print_loss_avg))\n",
        "\n",
        "        if epoch % plot_every == 0:\n",
        "            plot_loss_avg = plot_loss_total / plot_every\n",
        "            plot_losses.append(plot_loss_avg)\n",
        "            plot_loss_total = 0\n",
        "\n",
        "    showPlot(plot_losses)"
      ]
    },
    {
      "cell_type": "code",
      "source": [
        "def tensorFromSentence(inp_vocab, inp_tokenizer, sentence):\n",
        "\n",
        "    inp_tensor_ = torch.tensor([inp_vocab[token] for token in inp_tokenizer(sentence)], dtype=torch.long)\n",
        "    # inp_tensor_  = torch.cat([inp_tensor_, torch.tensor([EOS_IDX])], dim=0)\n",
        "\n",
        "    inp_batch = []\n",
        "    inp_batch.append(torch.cat([inp_tensor_, torch.tensor([EOS_IDX])], dim=0))\n",
        "\n",
        "    inp_batch = pad_sequence(inp_batch, padding_value=PAD_IDX, batch_first=True).to(device)\n",
        "    print(f'inp_batch size = {inp_batch.size()}')\n",
        "    return inp_batch\n",
        "\n",
        "    # return torch.tensor(concat_tensor.clone().detach(), dtype=torch.long, device=device).view(1, -1)"
      ],
      "metadata": {
        "id": "_-ugmwa_LfIn"
      },
      "execution_count": 26,
      "outputs": []
    },
    {
      "cell_type": "code",
      "source": [
        "def evaluate(encoder, decoder, sentence, inp_vocab, inp_tokenizer):\n",
        "    with torch.no_grad():\n",
        "        input_tensor = tensorFromSentence(inp_vocab, inp_tokenizer, sentence)\n",
        "\n",
        "        encoder_outputs, encoder_hidden = encoder(input_tensor)\n",
        "        print(f'encoder_outputs.size = {encoder_outputs.size()}, encoder_hidden.size={encoder_hidden.size()}')\n",
        "        decoder_outputs, decoder_hidden, _ = decoder(encoder_outputs, encoder_hidden)\n",
        "\n",
        "        print(f'after decoder: {decoder_outputs.size()}')\n",
        "        _, topi = decoder_outputs.topk(1, dim=2)\n",
        "        decoded_ids = topi.squeeze().tolist()\n",
        "        print(f'index: {decoded_ids}')\n",
        "\n",
        "        decoded_words = []\n",
        "        decoded_words = es_vocab.lookup_tokens(decoded_ids)\n",
        "        print(f'words: {decoded_words}')\n",
        "        # for idx in decoded_ids:\n",
        "        #     if idx.item() == 2:\n",
        "        #         decoded_words.append('<EOS>')\n",
        "        #         break\n",
        "        #     print(f'{idx}: {decoded_words}, {idx}')\n",
        "        #     # decoded_words.append(es_vocab.lookup_tokens(idx.item()))\n",
        "\n",
        "    return decoded_words"
      ],
      "metadata": {
        "id": "DedUmuaXKcVC"
      },
      "execution_count": 58,
      "outputs": []
    },
    {
      "cell_type": "code",
      "source": [],
      "metadata": {
        "id": "uGgF-IvOYrCc"
      },
      "execution_count": 27,
      "outputs": []
    },
    {
      "cell_type": "markdown",
      "metadata": {
        "id": "y3pQc2d8TZBQ"
      },
      "source": [
        "# Training and Evaluating\n"
      ]
    },
    {
      "cell_type": "code",
      "execution_count": 80,
      "metadata": {
        "colab": {
          "base_uri": "https://localhost:8080/",
          "height": 1000
        },
        "id": "sKqTBLEzTffa",
        "outputId": "815c89cb-f29e-4d4c-c554-7f65f75e0309"
      },
      "outputs": [
        {
          "output_type": "stream",
          "name": "stdout",
          "text": [
            "English vocab size: 14831\n",
            "Spanish vocab size: 29103\n",
            "0m 44s (- 36m 5s) (1 2%) 2.3012\n",
            "1m 28s (- 35m 35s) (2 4%) 1.6154\n",
            "2m 13s (- 34m 46s) (3 6%) 1.3886\n",
            "2m 57s (- 34m 1s) (4 8%) 1.2339\n",
            "3m 41s (- 33m 15s) (5 10%) 1.1202\n",
            "4m 26s (- 32m 32s) (6 12%) 1.0274\n",
            "5m 10s (- 31m 48s) (7 14%) 0.9502\n",
            "5m 55s (- 31m 4s) (8 16%) 0.8905\n",
            "6m 39s (- 30m 21s) (9 18%) 0.8307\n",
            "7m 24s (- 29m 36s) (10 20%) 0.7868\n",
            "8m 8s (- 28m 51s) (11 22%) 0.7495\n",
            "8m 52s (- 28m 7s) (12 24%) 0.7068\n",
            "9m 37s (- 27m 23s) (13 26%) 0.6755\n",
            "10m 21s (- 26m 39s) (14 28%) 0.6437\n",
            "11m 6s (- 25m 54s) (15 30%) 0.6180\n",
            "11m 51s (- 25m 10s) (16 32%) 0.5918\n",
            "12m 35s (- 24m 27s) (17 34%) 0.5709\n",
            "13m 20s (- 23m 42s) (18 36%) 0.5532\n",
            "14m 5s (- 22m 58s) (19 38%) 0.5322\n",
            "14m 49s (- 22m 14s) (20 40%) 0.5157\n",
            "15m 34s (- 21m 30s) (21 42%) 0.4963\n",
            "16m 19s (- 20m 46s) (22 44%) 0.4855\n",
            "17m 3s (- 20m 2s) (23 46%) 0.4737\n",
            "17m 48s (- 19m 17s) (24 48%) 0.4579\n",
            "18m 33s (- 18m 33s) (25 50%) 0.4474\n",
            "19m 17s (- 17m 48s) (26 52%) 0.4366\n",
            "20m 2s (- 17m 4s) (27 54%) 0.4278\n",
            "20m 47s (- 16m 19s) (28 56%) 0.4161\n",
            "21m 31s (- 15m 35s) (29 57%) 0.4100\n",
            "22m 16s (- 14m 50s) (30 60%) 0.3974\n",
            "23m 0s (- 14m 6s) (31 62%) 0.3909\n",
            "23m 45s (- 13m 21s) (32 64%) 0.3831\n",
            "24m 29s (- 12m 37s) (33 66%) 0.3745\n",
            "25m 14s (- 11m 52s) (34 68%) 0.3691\n",
            "25m 58s (- 11m 8s) (35 70%) 0.3617\n",
            "26m 43s (- 10m 23s) (36 72%) 0.3551\n",
            "27m 28s (- 9m 39s) (37 74%) 0.3493\n",
            "28m 12s (- 8m 54s) (38 76%) 0.3441\n",
            "28m 57s (- 8m 9s) (39 78%) 0.3388\n",
            "29m 41s (- 7m 25s) (40 80%) 0.3320\n",
            "30m 26s (- 6m 40s) (41 82%) 0.3282\n",
            "31m 10s (- 5m 56s) (42 84%) 0.3225\n",
            "31m 55s (- 5m 11s) (43 86%) 0.3158\n",
            "32m 40s (- 4m 27s) (44 88%) 0.3131\n",
            "33m 24s (- 3m 42s) (45 90%) 0.3082\n",
            "34m 9s (- 2m 58s) (46 92%) 0.3043\n",
            "34m 53s (- 2m 13s) (47 94%) 0.3014\n",
            "35m 38s (- 1m 29s) (48 96%) 0.2967\n",
            "36m 23s (- 0m 44s) (49 98%) 0.2917\n",
            "37m 7s (- 0m 0s) (50 100%) 0.2870\n"
          ]
        },
        {
          "output_type": "display_data",
          "data": {
            "text/plain": [
              "<Figure size 640x480 with 0 Axes>"
            ]
          },
          "metadata": {}
        },
        {
          "output_type": "display_data",
          "data": {
            "text/plain": [
              "<Figure size 640x480 with 1 Axes>"
            ],
            "image/png": "[encoded data removed]"
          },
          "metadata": {}
        }
      ],
      "source": [
        "hidden_size = 128\n",
        "\n",
        "print(f'English vocab size: {len(en_vocab)}')\n",
        "print(f'Spanish vocab size: {len(es_vocab)}')\n",
        "\n",
        "encoder = EncoderRNN(len(en_vocab), hidden_size).to(device)\n",
        "decoder = DecoderRNN(hidden_size, len(es_vocab)).to(device)\n",
        "\n",
        "train(train_loader, encoder, decoder, 50, print_every=1, plot_every=1)"
      ]
    },
    {
      "cell_type": "code",
      "source": [
        "import random\n",
        "\n",
        "def evaluateRandomly(encoder, decoder, n=1):\n",
        "    for i in range(n):\n",
        "        pair = random.choice(pairs)\n",
        "        print('>', pair[0])\n",
        "        print('=', pair[1])\n",
        "        output_words = evaluate(encoder, decoder, pair[0], en_vocab, en_tokenizer)\n",
        "        output_sentence = ' '.join(output_words)\n",
        "        print('<', output_sentence)\n",
        "        print('')"
      ],
      "metadata": {
        "id": "IGoQ2lwn_bxQ"
      },
      "execution_count": 81,
      "outputs": []
    },
    {
      "cell_type": "code",
      "source": [
        "encoder.eval()\n",
        "decoder.eval()\n"
      ],
      "metadata": {
        "id": "KRRJz7wQYqED",
        "colab": {
          "base_uri": "https://localhost:8080/"
        },
        "outputId": "c8d398af-b72c-4872-8ecf-b619aefb0c89"
      },
      "execution_count": 82,
      "outputs": [
        {
          "output_type": "execute_result",
          "data": {
            "text/plain": [
              "DecoderRNN(\n",
              "  (embedding): Embedding(29103, 128)\n",
              "  (gru): GRU(128, 128, batch_first=True)\n",
              "  (out): Linear(in_features=128, out_features=29103, bias=True)\n",
              ")"
            ]
          },
          "metadata": {},
          "execution_count": 82
        }
      ]
    },
    {
      "cell_type": "code",
      "source": [
        "evaluateRandomly(encoder, decoder)"
      ],
      "metadata": {
        "colab": {
          "base_uri": "https://localhost:8080/"
        },
        "id": "3w-K1Ml-MmEH",
        "outputId": "60039496-a711-4b82-bd09-8b442a161343"
      },
      "execution_count": 83,
      "outputs": [
        {
          "output_type": "stream",
          "name": "stdout",
          "text": [
            "> We enjoyed the cool breeze that came from the river.\n",
            "= Disfrutamos de la brisa fresca que provenía del río.\n",
            "inp_batch size = torch.Size([1, 12])\n",
            "encoder_outputs.size = torch.Size([1, 12, 128]), encoder_hidden.size=torch.Size([1, 1, 128])\n",
            "after decoder: torch.Size([1, 10, 29103])\n",
            "index: [5434, 12, 498, 5, 1944, 5, 161, 498, 4, 3]\n",
            "words: ['Disfrutamos', 'el', 'río', 'de', 'pintar', 'de', 'ese', 'río', '.', '<EOS>']\n",
            "< Disfrutamos el río de pintar de ese río . <EOS>\n",
            "\n"
          ]
        }
      ]
    }
  ],
  "metadata": {
    "accelerator": "GPU",
    "colab": {
      "provenance": [],
      "authorship_tag": "ABX9TyPULnci398ujAdLr9QPbO54",
      "include_colab_link": true
    },
    "kernelspec": {
      "display_name": "Python 3",
      "name": "python3"
    },
    "language_info": {
      "name": "python"
    }
  },
  "nbformat": 4,
  "nbformat_minor": 0
}